{
 "cells": [
  {
   "cell_type": "code",
   "execution_count": 36,
   "metadata": {},
   "outputs": [],
   "source": [
    "import pandas as pd\n",
    "import numpy as np\n",
    "import os"
   ]
  },
  {
   "cell_type": "code",
   "execution_count": 37,
   "metadata": {},
   "outputs": [],
   "source": [
    "import sklearn as sklearn\n",
    "from datetime import *"
   ]
  },
  {
   "cell_type": "code",
   "execution_count": 38,
   "metadata": {},
   "outputs": [],
   "source": [
    "from sklearn import preprocessing\n",
    "from sklearn.linear_model import LogisticRegression\n",
    "from sklearn.ensemble import RandomForestClassifier\n",
    "from sklearn.tree import DecisionTreeClassifier\n",
    "from sklearn.cross_validation import train_test_split\n",
    "from sklearn import metrics \n",
    "from sklearn.metrics import classification_report\n",
    "from sklearn.metrics import confusion_matrix\n",
    "from sklearn.metrics import roc_curve\n",
    "from sklearn.feature_selection import RFE"
   ]
  },
  {
   "cell_type": "code",
   "execution_count": 39,
   "metadata": {},
   "outputs": [],
   "source": [
    "from sklearn_pandas import DataFrameMapper\n",
    "from sklearn.pipeline import Pipeline\n",
    "from sklearn2pmml.pipeline import PMMLPipeline\n",
    "from sklearn.externals import joblib\n",
    "from sklearn.metrics import confusion_matrix, classification_report"
   ]
  },
  {
   "cell_type": "code",
   "execution_count": 40,
   "metadata": {},
   "outputs": [],
   "source": [
    "from sklearn.cross_validation import StratifiedKFold\n",
    "from sklearn.metrics import accuracy_score\n",
    "from sklearn.grid_search import GridSearchCV\n",
    "#from modeldb.sklearn_native.ModelDbSyncer import *\n",
    "#from modeldb.sklearn_native import SyncableMetrics"
   ]
  },
  {
   "cell_type": "code",
   "execution_count": 41,
   "metadata": {},
   "outputs": [],
   "source": [
    "Scoring  = pd.read_csv(\"ScoringDataProfiled.csv\")\n",
    "Training = pd.read_csv(\"CustomerChurnDataProfiled.csv\")"
   ]
  },
  {
   "cell_type": "code",
   "execution_count": 42,
   "metadata": {},
   "outputs": [],
   "source": [
    ]
  },
  {
   "cell_type": "code",
   "execution_count": 43,
   "metadata": {},
   "outputs": [
    {
     "data": {
      "text/plain": [
       "Index(['ACCOUNT_BALANCE_LOW', 'AGE', 'AVG_FAMILY_SIZE', 'CHURN_Y_N',\n",
       "       'Credit_card_limit', 'DEPOSIT_AMT', 'FIRST_NAME', 'GENDER',\n",
       "       'INACTIVE_CUST_FLAG', 'INCOME_LEVEL', 'Interest_rate', 'LAST_NAME',\n",
       "       'MARITAL_STATUS', 'NUM_DEPOSIT_TRX', 'NUM_OF_AVG_RESOLUTION',\n",
       "       'NUM_OF_COMPLAINTS', 'NUM_OF_ENQUIRIES', 'NUM_OF_GOOD_RESOLUTION',\n",
       "       'NUM_OF_POOR_RESOLUTION', 'NUM_OF_PROD_SUPRT', 'NUM_WDWL_TRX',\n",
       "       'OCCUPATION', 'WDWL_AMT', '_id', 'create_date', 'customer_id',\n",
       "       'product_id', 'product_type', 'sentiment_polarity', 'sentiment_score'],\n",
       "      dtype='object')"
      ]
     },
     "execution_count": 43,
     "metadata": {},
     "output_type": "execute_result"
    }
   ],
   "source": [
    "Training.columns"
   ]
  },
  {
   "cell_type": "markdown",
   "metadata": {},
   "source": [
    "#### Dropping the Columns based on the data from Data Profiling of Data Explorer"
   ]
  },
  {
   "cell_type": "code",
   "execution_count": 44,
   "metadata": {},
   "outputs": [],
   "source": [
    "Training.drop([ 'FIRST_NAME','INACTIVE_CUST_FLAG','LAST_NAME','NUM_DEPOSIT_TRX', 'NUM_OF_AVG_RESOLUTION','NUM_OF_GOOD_RESOLUTION','NUM_OF_POOR_RESOLUTION','create_date','product_type'],axis=1,inplace=True)"
   ]
  },
  {
   "cell_type": "code",
   "execution_count": 45,
   "metadata": {},
   "outputs": [
    {
     "data": {
      "text/plain": [
       "Index(['ACCOUNT_BALANCE_LOW', 'AGE', 'AVG_FAMILY_SIZE', 'Credit_card_limit',\n",
       "       'DEPOSIT_AMT', 'FIRST_NAME', 'GENDER', 'INACTIVE_CUST_FLAG',\n",
       "       'INCOME_LEVEL', 'Interest_rate', 'LAST_NAME', 'MARITAL_STATUS',\n",
       "       'NUM_DEPOSIT_TRX', 'NUM_OF_AVG_RESOLUTION', 'NUM_OF_COMPLAINTS',\n",
       "       'NUM_OF_ENQUIRIES', 'NUM_OF_GOOD_RESOLUTION', 'NUM_OF_POOR_RESOLUTION',\n",
       "       'NUM_OF_PROD_SUPRT', 'NUM_WDWL_TRX', 'OCCUPATION', 'WDWL_AMT', '_id',\n",
       "       'create_date', 'customer_id', 'product_id', 'product_type',\n",
       "       'sentiment_polarity', 'sentiment_score'],\n",
       "      dtype='object')"
      ]
     },
     "execution_count": 45,
     "metadata": {},
     "output_type": "execute_result"
    }
   ],
   "source": [
    "Scoring.columns"
   ]
  },
  {
   "cell_type": "code",
   "execution_count": 46,
   "metadata": {},
   "outputs": [],
   "source": [
    "Scoring.drop([ 'FIRST_NAME','INACTIVE_CUST_FLAG','LAST_NAME','NUM_DEPOSIT_TRX', 'NUM_OF_AVG_RESOLUTION','NUM_OF_GOOD_RESOLUTION','NUM_OF_POOR_RESOLUTION','create_date','product_type'],axis=1,inplace=True)"
   ]
  },
  {
   "cell_type": "code",
   "execution_count": 47,
   "metadata": {},
   "outputs": [],
   "source": [
    "from sklearn.model_selection import train_test_split"
   ]
  },
  {
   "cell_type": "code",
   "execution_count": 51,
   "metadata": {},
   "outputs": [
    {
     "name": "stdout",
     "output_type": "stream",
     "text": [
      "       ACCOUNT_BALANCE_LOW         AGE  AVG_FAMILY_SIZE  Credit_card_limit  \\\n",
      "count           647.000000  647.000000       647.000000         647.000000   \n",
      "mean              0.347759   44.244204         3.905719      237055.641422   \n",
      "std               0.476627   13.069558         1.450552      210703.215914   \n",
      "min               0.000000   22.000000         2.000000       25000.000000   \n",
      "25%               0.000000   33.000000         3.000000      100000.000000   \n",
      "50%               0.000000   45.000000         4.000000      100000.000000   \n",
      "75%               1.000000   56.000000         5.000000      300000.000000   \n",
      "max               1.000000   67.000000         6.000000      800000.000000   \n",
      "\n",
      "        DEPOSIT_AMT  Interest_rate  NUM_OF_COMPLAINTS  NUM_OF_ENQUIRIES  \\\n",
      "count    647.000000     647.000000         647.000000        647.000000   \n",
      "mean   14000.344668      15.965997           0.234930          0.168470   \n",
      "std    15902.066713       1.539597           0.435091          0.374573   \n",
      "min        0.000000      11.000000           0.000000          0.000000   \n",
      "25%        0.000000      15.000000           0.000000          0.000000   \n",
      "50%     9377.000000      16.000000           0.000000          0.000000   \n",
      "75%    22514.000000      16.000000           0.000000          0.000000   \n",
      "max    78243.000000      20.000000           2.000000          1.000000   \n",
      "\n",
      "       NUM_OF_PROD_SUPRT  NUM_WDWL_TRX       WDWL_AMT   customer_id  \\\n",
      "count         647.000000    647.000000     647.000000    647.000000   \n",
      "mean            0.216383      1.163833   15383.761978  21791.197836   \n",
      "std             0.426858      1.144805   17129.829534    289.825288   \n",
      "min             0.000000      0.000000       0.000000  21286.000000   \n",
      "25%             0.000000      0.000000       0.000000  21535.500000   \n",
      "50%             0.000000      1.000000   11220.000000  21819.000000   \n",
      "75%             0.000000      2.000000   23376.500000  22039.500000   \n",
      "max             2.000000      7.000000  112783.000000  22284.000000   \n",
      "\n",
      "        product_id  sentiment_score  \n",
      "count   647.000000       647.000000  \n",
      "mean   2394.982998         0.360124  \n",
      "std    1457.817810         0.862973  \n",
      "min       2.000000        -3.000000  \n",
      "25%    1141.000000         0.000000  \n",
      "50%    2311.000000         0.000000  \n",
      "75%    3650.500000         1.000000  \n",
      "max    4988.000000         5.000000  \n"
     ]
    }
   ],
   "source": [
    "print (Training.describe())"
   ]
  },
  {
   "cell_type": "code",
   "execution_count": 52,
   "metadata": {},
   "outputs": [
    {
     "name": "stdout",
     "output_type": "stream",
     "text": [
      "ACCOUNT_BALANCE_LOW    float64\n",
      "AGE                    float64\n",
      "AVG_FAMILY_SIZE          int64\n",
      "CHURN_Y_N               object\n",
      "Credit_card_limit      float64\n",
      "DEPOSIT_AMT            float64\n",
      "GENDER                  object\n",
      "INCOME_LEVEL            object\n",
      "Interest_rate          float64\n",
      "MARITAL_STATUS          object\n",
      "NUM_OF_COMPLAINTS      float64\n",
      "NUM_OF_ENQUIRIES       float64\n",
      "NUM_OF_PROD_SUPRT      float64\n",
      "NUM_WDWL_TRX           float64\n",
      "OCCUPATION              object\n",
      "WDWL_AMT               float64\n",
      "_id                     object\n",
      "customer_id              int64\n",
      "product_id               int64\n",
      "sentiment_polarity      object\n",
      "sentiment_score        float64\n",
      "dtype: object\n"
     ]
    }
   ],
   "source": [
    "print (Training.dtypes)"
   ]
  },
  {
   "cell_type": "code",
   "execution_count": 53,
   "metadata": {},
   "outputs": [],
   "source": [
    "Training['interest_rate_low'] = np.where((Training['Interest_rate'] <= 16.0),1,0)\n",
    "Training['interest_rate_high'] = np.where((Training['Interest_rate'] > 16.0),1,0)\n",
    "Training['credit_limit_low'] = np.where((Training['Credit_card_limit'] <= 75000.0),1,0)\n",
    "Training['credit_limit_high'] = np.where((Training['Credit_card_limit'] > 75000.0),1,0)\n",
    "Training['Nuclear_Family'] = np.where((Training['AVG_FAMILY_SIZE'] <= 4),1,0)\n",
    "Training['Joint_Family'] = np.where((Training['AVG_FAMILY_SIZE'] > 4),1,0)"
   ]
  },
  {
   "cell_type": "code",
   "execution_count": 54,
   "metadata": {},
   "outputs": [
    {
     "data": {
      "text/html": [
       "<div>\n",
       "<style scoped>\n",
       "    .dataframe tbody tr th:only-of-type {\n",
       "        vertical-align: middle;\n",
       "    }\n",
       "\n",
       "    .dataframe tbody tr th {\n",
       "        vertical-align: top;\n",
       "    }\n",
       "\n",
       "    .dataframe thead th {\n",
       "        text-align: right;\n",
       "    }\n",
       "</style>\n",
       "<table border=\"1\" class=\"dataframe\">\n",
       "  <thead>\n",
       "    <tr style=\"text-align: right;\">\n",
       "      <th></th>\n",
       "      <th>ACCOUNT_BALANCE_LOW</th>\n",
       "      <th>AGE</th>\n",
       "      <th>AVG_FAMILY_SIZE</th>\n",
       "      <th>CHURN_Y_N</th>\n",
       "      <th>Credit_card_limit</th>\n",
       "      <th>DEPOSIT_AMT</th>\n",
       "      <th>GENDER</th>\n",
       "      <th>INCOME_LEVEL</th>\n",
       "      <th>Interest_rate</th>\n",
       "      <th>MARITAL_STATUS</th>\n",
       "      <th>...</th>\n",
       "      <th>customer_id</th>\n",
       "      <th>product_id</th>\n",
       "      <th>sentiment_polarity</th>\n",
       "      <th>sentiment_score</th>\n",
       "      <th>interest_rate_low</th>\n",
       "      <th>interest_rate_high</th>\n",
       "      <th>credit_limit_low</th>\n",
       "      <th>credit_limit_high</th>\n",
       "      <th>Nuclear_Family</th>\n",
       "      <th>Joint_Family</th>\n",
       "    </tr>\n",
       "  </thead>\n",
       "  <tbody>\n",
       "    <tr>\n",
       "      <th>0</th>\n",
       "      <td>0.0</td>\n",
       "      <td>50.0</td>\n",
       "      <td>2</td>\n",
       "      <td>N</td>\n",
       "      <td>100000.0</td>\n",
       "      <td>20973.0</td>\n",
       "      <td>Female</td>\n",
       "      <td>Medium</td>\n",
       "      <td>16.0</td>\n",
       "      <td>Married</td>\n",
       "      <td>...</td>\n",
       "      <td>22278</td>\n",
       "      <td>3848</td>\n",
       "      <td>neutral</td>\n",
       "      <td>0.0</td>\n",
       "      <td>1</td>\n",
       "      <td>0</td>\n",
       "      <td>0</td>\n",
       "      <td>1</td>\n",
       "      <td>1</td>\n",
       "      <td>0</td>\n",
       "    </tr>\n",
       "    <tr>\n",
       "      <th>1</th>\n",
       "      <td>0.0</td>\n",
       "      <td>33.0</td>\n",
       "      <td>2</td>\n",
       "      <td>Y</td>\n",
       "      <td>50000.0</td>\n",
       "      <td>61346.0</td>\n",
       "      <td>Male</td>\n",
       "      <td>High</td>\n",
       "      <td>18.0</td>\n",
       "      <td>Married</td>\n",
       "      <td>...</td>\n",
       "      <td>22284</td>\n",
       "      <td>3354</td>\n",
       "      <td>neutral</td>\n",
       "      <td>0.0</td>\n",
       "      <td>0</td>\n",
       "      <td>1</td>\n",
       "      <td>1</td>\n",
       "      <td>0</td>\n",
       "      <td>1</td>\n",
       "      <td>0</td>\n",
       "    </tr>\n",
       "    <tr>\n",
       "      <th>2</th>\n",
       "      <td>0.0</td>\n",
       "      <td>66.0</td>\n",
       "      <td>6</td>\n",
       "      <td>N</td>\n",
       "      <td>400000.0</td>\n",
       "      <td>9636.0</td>\n",
       "      <td>Male</td>\n",
       "      <td>Low</td>\n",
       "      <td>12.0</td>\n",
       "      <td>Married</td>\n",
       "      <td>...</td>\n",
       "      <td>22264</td>\n",
       "      <td>1284</td>\n",
       "      <td>neutral</td>\n",
       "      <td>0.0</td>\n",
       "      <td>1</td>\n",
       "      <td>0</td>\n",
       "      <td>0</td>\n",
       "      <td>1</td>\n",
       "      <td>0</td>\n",
       "      <td>1</td>\n",
       "    </tr>\n",
       "    <tr>\n",
       "      <th>3</th>\n",
       "      <td>0.0</td>\n",
       "      <td>54.0</td>\n",
       "      <td>6</td>\n",
       "      <td>N</td>\n",
       "      <td>100000.0</td>\n",
       "      <td>24070.0</td>\n",
       "      <td>Male</td>\n",
       "      <td>High</td>\n",
       "      <td>16.0</td>\n",
       "      <td>Married</td>\n",
       "      <td>...</td>\n",
       "      <td>22268</td>\n",
       "      <td>1819</td>\n",
       "      <td>neutral</td>\n",
       "      <td>0.0</td>\n",
       "      <td>1</td>\n",
       "      <td>0</td>\n",
       "      <td>0</td>\n",
       "      <td>1</td>\n",
       "      <td>0</td>\n",
       "      <td>1</td>\n",
       "    </tr>\n",
       "    <tr>\n",
       "      <th>4</th>\n",
       "      <td>1.0</td>\n",
       "      <td>32.0</td>\n",
       "      <td>2</td>\n",
       "      <td>Y</td>\n",
       "      <td>300000.0</td>\n",
       "      <td>0.0</td>\n",
       "      <td>Male</td>\n",
       "      <td>Low</td>\n",
       "      <td>15.0</td>\n",
       "      <td>Married</td>\n",
       "      <td>...</td>\n",
       "      <td>22258</td>\n",
       "      <td>2547</td>\n",
       "      <td>negative</td>\n",
       "      <td>-1.0</td>\n",
       "      <td>1</td>\n",
       "      <td>0</td>\n",
       "      <td>0</td>\n",
       "      <td>1</td>\n",
       "      <td>1</td>\n",
       "      <td>0</td>\n",
       "    </tr>\n",
       "  </tbody>\n",
       "</table>\n",
       "<p>5 rows × 27 columns</p>\n",
       "</div>"
      ],
      "text/plain": [
       "   ACCOUNT_BALANCE_LOW   AGE  AVG_FAMILY_SIZE CHURN_Y_N  Credit_card_limit  \\\n",
       "0                  0.0  50.0                2         N           100000.0   \n",
       "1                  0.0  33.0                2         Y            50000.0   \n",
       "2                  0.0  66.0                6         N           400000.0   \n",
       "3                  0.0  54.0                6         N           100000.0   \n",
       "4                  1.0  32.0                2         Y           300000.0   \n",
       "\n",
       "   DEPOSIT_AMT  GENDER INCOME_LEVEL  Interest_rate MARITAL_STATUS  ...  \\\n",
       "0      20973.0  Female       Medium           16.0        Married  ...   \n",
       "1      61346.0    Male         High           18.0        Married  ...   \n",
       "2       9636.0    Male          Low           12.0        Married  ...   \n",
       "3      24070.0    Male         High           16.0        Married  ...   \n",
       "4          0.0    Male          Low           15.0        Married  ...   \n",
       "\n",
       "   customer_id  product_id  sentiment_polarity  sentiment_score  \\\n",
       "0        22278        3848             neutral              0.0   \n",
       "1        22284        3354             neutral              0.0   \n",
       "2        22264        1284             neutral              0.0   \n",
       "3        22268        1819             neutral              0.0   \n",
       "4        22258        2547            negative             -1.0   \n",
       "\n",
       "  interest_rate_low  interest_rate_high credit_limit_low  credit_limit_high  \\\n",
       "0                 1                   0                0                  1   \n",
       "1                 0                   1                1                  0   \n",
       "2                 1                   0                0                  1   \n",
       "3                 1                   0                0                  1   \n",
       "4                 1                   0                0                  1   \n",
       "\n",
       "   Nuclear_Family Joint_Family  \n",
       "0               1            0  \n",
       "1               1            0  \n",
       "2               0            1  \n",
       "3               0            1  \n",
       "4               1            0  \n",
       "\n",
       "[5 rows x 27 columns]"
      ]
     },
     "execution_count": 54,
     "metadata": {},
     "output_type": "execute_result"
    }
   ],
   "source": [
    "Training.head(5)"
   ]
  },
  {
   "cell_type": "code",
   "execution_count": 55,
   "metadata": {},
   "outputs": [],
   "source": [
    "Training['age_20_30'] = np.where((Training['AGE'] >= 20) & (Training['AGE'] <= 30),1,0)\n",
    "Training['age_30_40'] = np.where((Training['AGE'] > 30) & (Training['AGE'] <= 40),1,0)\n",
    "Training['age_40_50'] = np.where((Training['AGE'] > 40) & (Training['AGE'] <= 50),1,0)\n",
    "Training['age_50_60'] = np.where((Training['AGE'] > 50) & (Training['AGE'] <= 60),1,0)\n",
    "Training['age_60_70'] = np.where((Training['AGE'] > 60) & (Training['AGE'] <= 70),1,0)"
   ]
  },
  {
   "cell_type": "code",
   "execution_count": 56,
   "metadata": {},
   "outputs": [
    {
     "name": "stdout",
     "output_type": "stream",
     "text": [
      "['GENDER', 'INCOME_LEVEL', 'MARITAL_STATUS', 'sentiment_polarity']\n",
      "     customer_id  GENDER_Female  GENDER_Male  INCOME_LEVEL_High  \\\n",
      "0          22278              1            0                  0   \n",
      "1          22284              0            1                  1   \n",
      "2          22264              0            1                  0   \n",
      "3          22268              0            1                  1   \n",
      "4          22258              0            1                  0   \n",
      "5          22262              1            0                  1   \n",
      "6          22269              0            1                  0   \n",
      "7          22281              1            0                  0   \n",
      "8          22252              0            1                  0   \n",
      "9          22248              1            0                  0   \n",
      "10         22274              0            1                  1   \n",
      "11         22256              0            1                  1   \n",
      "12         22246              0            1                  0   \n",
      "13         22245              1            0                  0   \n",
      "14         22254              0            1                  0   \n",
      "15         22244              1            0                  1   \n",
      "16         22271              1            0                  1   \n",
      "17         22272              0            1                  0   \n",
      "18         22241              1            0                  1   \n",
      "19         22208              1            0                  1   \n",
      "20         22210              0            1                  0   \n",
      "21         22275              1            0                  0   \n",
      "22         22199              1            0                  1   \n",
      "23         22212              0            1                  0   \n",
      "24         22202              1            0                  1   \n",
      "25         22217              0            1                  1   \n",
      "26         22194              1            0                  0   \n",
      "27         22224              1            0                  0   \n",
      "28         22193              0            1                  1   \n",
      "29         22191              0            1                  0   \n",
      "..           ...            ...          ...                ...   \n",
      "617        21881              0            1                  0   \n",
      "618        21449              0            1                  0   \n",
      "619        21714              0            1                  1   \n",
      "620        21354              0            1                  0   \n",
      "621        21845              1            0                  1   \n",
      "622        21885              0            1                  0   \n",
      "623        21884              1            0                  0   \n",
      "624        22100              1            0                  0   \n",
      "625        21889              0            1                  1   \n",
      "626        21887              0            1                  0   \n",
      "627        21890              1            0                  0   \n",
      "628        21574              0            1                  1   \n",
      "629        21894              1            0                  0   \n",
      "630        21895              1            0                  1   \n",
      "631        21333              1            0                  0   \n",
      "632        21897              0            1                  0   \n",
      "633        21898              1            0                  1   \n",
      "634        21424              1            0                  0   \n",
      "635        21904              1            0                  1   \n",
      "636        21900              1            0                  0   \n",
      "637        22247              1            0                  1   \n",
      "638        21905              0            1                  0   \n",
      "639        21676              1            0                  0   \n",
      "640        22069              1            0                  0   \n",
      "641        21907              1            0                  1   \n",
      "642        21912              0            1                  0   \n",
      "643        21908              0            1                  0   \n",
      "644        21916              1            0                  1   \n",
      "645        21931              0            1                  1   \n",
      "646        21929              1            0                  0   \n",
      "\n",
      "     INCOME_LEVEL_Low  INCOME_LEVEL_Medium  MARITAL_STATUS_Married  \\\n",
      "0                   0                    1                       1   \n",
      "1                   0                    0                       1   \n",
      "2                   1                    0                       1   \n",
      "3                   0                    0                       1   \n",
      "4                   1                    0                       1   \n",
      "5                   0                    0                       1   \n",
      "6                   0                    1                       1   \n",
      "7                   0                    1                       1   \n",
      "8                   1                    0                       1   \n",
      "9                   0                    1                       1   \n",
      "10                  0                    0                       1   \n",
      "11                  0                    0                       1   \n",
      "12                  1                    0                       1   \n",
      "13                  0                    1                       1   \n",
      "14                  0                    1                       1   \n",
      "15                  0                    0                       1   \n",
      "16                  0                    0                       1   \n",
      "17                  0                    1                       1   \n",
      "18                  0                    0                       1   \n",
      "19                  0                    0                       1   \n",
      "20                  1                    0                       1   \n",
      "21                  0                    1                       1   \n",
      "22                  0                    0                       1   \n",
      "23                  0                    1                       1   \n",
      "24                  0                    0                       1   \n",
      "25                  0                    0                       1   \n",
      "26                  0                    1                       0   \n",
      "27                  0                    1                       1   \n",
      "28                  0                    0                       1   \n",
      "29                  0                    1                       1   \n",
      "..                ...                  ...                     ...   \n",
      "617                 0                    1                       1   \n",
      "618                 0                    1                       1   \n",
      "619                 0                    0                       1   \n",
      "620                 0                    1                       1   \n",
      "621                 0                    0                       1   \n",
      "622                 1                    0                       1   \n",
      "623                 0                    1                       1   \n",
      "624                 1                    0                       0   \n",
      "625                 0                    0                       0   \n",
      "626                 0                    1                       1   \n",
      "627                 0                    1                       1   \n",
      "628                 0                    0                       1   \n",
      "629                 1                    0                       1   \n",
      "630                 0                    0                       1   \n",
      "631                 0                    1                       0   \n",
      "632                 1                    0                       0   \n",
      "633                 0                    0                       1   \n",
      "634                 1                    0                       1   \n",
      "635                 0                    0                       1   \n",
      "636                 1                    0                       1   \n",
      "637                 0                    0                       1   \n",
      "638                 0                    1                       1   \n",
      "639                 0                    1                       1   \n",
      "640                 0                    1                       1   \n",
      "641                 0                    0                       1   \n",
      "642                 1                    0                       1   \n",
      "643                 0                    1                       1   \n",
      "644                 0                    0                       1   \n",
      "645                 0                    0                       1   \n",
      "646                 0                    1                       1   \n",
      "\n",
      "     MARITAL_STATUS_Single  sentiment_polarity_negative  \\\n",
      "0                        0                            0   \n",
      "1                        0                            0   \n",
      "2                        0                            0   \n",
      "3                        0                            0   \n",
      "4                        0                            1   \n",
      "5                        0                            1   \n",
      "6                        0                            1   \n",
      "7                        0                            1   \n",
      "8                        0                            1   \n",
      "9                        0                            0   \n",
      "10                       0                            0   \n",
      "11                       0                            1   \n",
      "12                       0                            0   \n",
      "13                       0                            1   \n",
      "14                       0                            1   \n",
      "15                       0                            0   \n",
      "16                       0                            0   \n",
      "17                       0                            0   \n",
      "18                       0                            0   \n",
      "19                       0                            0   \n",
      "20                       0                            0   \n",
      "21                       0                            1   \n",
      "22                       0                            0   \n",
      "23                       0                            0   \n",
      "24                       0                            1   \n",
      "25                       0                            0   \n",
      "26                       1                            1   \n",
      "27                       0                            0   \n",
      "28                       0                            1   \n",
      "29                       0                            0   \n",
      "..                     ...                          ...   \n",
      "617                      0                            0   \n",
      "618                      0                            0   \n",
      "619                      0                            0   \n",
      "620                      0                            0   \n",
      "621                      0                            0   \n",
      "622                      0                            0   \n",
      "623                      0                            0   \n",
      "624                      1                            1   \n",
      "625                      1                            0   \n",
      "626                      0                            0   \n",
      "627                      0                            0   \n",
      "628                      0                            0   \n",
      "629                      0                            0   \n",
      "630                      0                            0   \n",
      "631                      1                            0   \n",
      "632                      1                            0   \n",
      "633                      0                            0   \n",
      "634                      0                            0   \n",
      "635                      0                            0   \n",
      "636                      0                            0   \n",
      "637                      0                            0   \n",
      "638                      0                            0   \n",
      "639                      0                            0   \n",
      "640                      0                            0   \n",
      "641                      0                            0   \n",
      "642                      0                            0   \n",
      "643                      0                            0   \n",
      "644                      0                            0   \n",
      "645                      0                            0   \n",
      "646                      0                            0   \n",
      "\n",
      "     sentiment_polarity_neutral  sentiment_polarity_positive  \n",
      "0                             1                            0  \n",
      "1                             1                            0  \n",
      "2                             1                            0  \n",
      "3                             1                            0  \n",
      "4                             0                            0  \n",
      "5                             0                            0  \n",
      "6                             0                            0  \n",
      "7                             0                            0  \n",
      "8                             0                            0  \n",
      "9                             1                            0  \n",
      "10                            1                            0  \n",
      "11                            0                            0  \n",
      "12                            1                            0  \n",
      "13                            0                            0  \n",
      "14                            0                            0  \n",
      "15                            1                            0  \n",
      "16                            1                            0  \n",
      "17                            1                            0  \n",
      "18                            1                            0  \n",
      "19                            1                            0  \n",
      "20                            1                            0  \n",
      "21                            0                            0  \n",
      "22                            1                            0  \n",
      "23                            1                            0  \n",
      "24                            0                            0  \n",
      "25                            1                            0  \n",
      "26                            0                            0  \n",
      "27                            1                            0  \n",
      "28                            0                            0  \n",
      "29                            1                            0  \n",
      "..                          ...                          ...  \n",
      "617                           1                            0  \n",
      "618                           1                            0  \n",
      "619                           0                            1  \n",
      "620                           0                            1  \n",
      "621                           1                            0  \n",
      "622                           0                            1  \n",
      "623                           0                            1  \n",
      "624                           0                            0  \n",
      "625                           1                            0  \n",
      "626                           1                            0  \n",
      "627                           1                            0  \n",
      "628                           0                            1  \n",
      "629                           0                            1  \n",
      "630                           1                            0  \n",
      "631                           0                            1  \n",
      "632                           1                            0  \n",
      "633                           1                            0  \n",
      "634                           0                            1  \n",
      "635                           0                            1  \n",
      "636                           1                            0  \n",
      "637                           1                            0  \n",
      "638                           0                            1  \n",
      "639                           0                            1  \n",
      "640                           0                            1  \n",
      "641                           1                            0  \n",
      "642                           0                            1  \n",
      "643                           0                            1  \n",
      "644                           0                            1  \n",
      "645                           0                            1  \n",
      "646                           1                            0  \n",
      "\n",
      "[647 rows x 11 columns]\n"
     ]
    },
    {
     "data": {
      "text/plain": [
       "Index(['customer_id', 'GENDER_Female', 'GENDER_Male', 'INCOME_LEVEL_High',\n",
       "       'INCOME_LEVEL_Low', 'INCOME_LEVEL_Medium', 'MARITAL_STATUS_Married',\n",
       "       'MARITAL_STATUS_Single', 'sentiment_polarity_negative',\n",
       "       'sentiment_polarity_neutral', 'sentiment_polarity_positive'],\n",
       "      dtype='object')"
      ]
     },
     "execution_count": 56,
     "metadata": {},
     "output_type": "execute_result"
    }
   ],
   "source": [
    "X = Training.filter(['customer_id','GENDER','INCOME_LEVEL','MARITAL_STATUS','sentiment_polarity'],axis=1)\n",
    "def dummy_df(df,todummy_list):\n",
    "    for x in todummy_list:\n",
    "        dummies = pd.get_dummies(df[x],prefix = x,dummy_na = False)\n",
    "        df = df.drop(x,1)\n",
    "        df = pd.concat([df,dummies],axis=1)\n",
    "    return df\n",
    "\n",
    "catg_list = ['GENDER','INCOME_LEVEL','MARITAL_STATUS','sentiment_polarity']\n",
    "#for col_name in X.columns:\n",
    " #   if X[col_name].dtypes == 'object':\n",
    "        #catg_list.append(col_name)\n",
    "\n",
    "print(catg_list)\n",
    "X = dummy_df(X,catg_list)\n",
    "print (X)\n",
    "X.columns"
   ]
  },
  {
   "cell_type": "code",
   "execution_count": 57,
   "metadata": {},
   "outputs": [
    {
     "data": {
      "text/plain": [
       "Index(['ACCOUNT_BALANCE_LOW', 'AGE', 'AVG_FAMILY_SIZE', 'CHURN_Y_N',\n",
       "       'Credit_card_limit', 'DEPOSIT_AMT', 'GENDER', 'INCOME_LEVEL',\n",
       "       'Interest_rate', 'MARITAL_STATUS', 'NUM_OF_COMPLAINTS',\n",
       "       'NUM_OF_ENQUIRIES', 'NUM_OF_PROD_SUPRT', 'NUM_WDWL_TRX', 'OCCUPATION',\n",
       "       'WDWL_AMT', '_id', 'customer_id', 'product_id', 'sentiment_polarity',\n",
       "       'sentiment_score', 'interest_rate_low', 'interest_rate_high',\n",
       "       'credit_limit_low', 'credit_limit_high', 'Nuclear_Family',\n",
       "       'Joint_Family', 'age_20_30', 'age_30_40', 'age_40_50', 'age_50_60',\n",
       "       'age_60_70', 'GENDER_Female', 'GENDER_Male', 'INCOME_LEVEL_High',\n",
       "       'INCOME_LEVEL_Low', 'INCOME_LEVEL_Medium', 'MARITAL_STATUS_Married',\n",
       "       'MARITAL_STATUS_Single', 'sentiment_polarity_negative',\n",
       "       'sentiment_polarity_neutral', 'sentiment_polarity_positive'],\n",
       "      dtype='object')"
      ]
     },
     "execution_count": 57,
     "metadata": {},
     "output_type": "execute_result"
    }
   ],
   "source": [
    "Training = pd.merge(Training,X,on='customer_id',how='left')\n",
    "Training.columns"
   ]
  },
  {
   "cell_type": "code",
   "execution_count": 58,
   "metadata": {},
   "outputs": [],
   "source": [
    "df_main = Training.drop(['GENDER','AGE', 'AVG_FAMILY_SIZE', 'Credit_card_limit', 'DEPOSIT_AMT', 'INCOME_LEVEL', 'Interest_rate',\n",
    "        'MARITAL_STATUS','OCCUPATION','sentiment_polarity','_id','WDWL_AMT','product_id','sentiment_score'],axis =1)"
   ]
  },
  {
   "cell_type": "code",
   "execution_count": 59,
   "metadata": {},
   "outputs": [
    {
     "name": "stdout",
     "output_type": "stream",
     "text": [
      "[1.38791333e+00 1.73497991e+00 9.31240440e-01 2.23735357e+00\n",
      " 4.10146027e-02 2.01991913e+01 7.18351522e+01 1.18779280e+02\n",
      " 1.16964317e+01 2.03158118e+00 3.06312046e+00 3.80798400e+00\n",
      " 2.23463630e+00 9.12761566e-01 1.25520191e+01 9.49547147e-01\n",
      " 1.35650506e+00 1.26337188e+00 1.94434783e+01 1.73379050e+00\n",
      " 9.57888768e+00 4.20671521e-01 3.06874481e+00 5.81208570e+00\n",
      " 1.40896806e+00 1.75273760e-01]\n",
      "[2.38757804e-01 1.87776164e-01 3.34540805e-01 1.34711364e-01\n",
      " 8.39509738e-01 6.97824292e-06 2.33947260e-17 1.17056172e-27\n",
      " 6.26200693e-04 1.54060254e-01 8.00877307e-02 5.10088102e-02\n",
      " 1.34948375e-01 3.39382754e-01 3.95778424e-04 3.29834594e-01\n",
      " 2.44144105e-01 2.61013804e-01 1.03621055e-05 1.87927539e-01\n",
      " 1.96827618e-03 5.16602159e-01 7.98110728e-02 1.59164064e-02\n",
      " 2.35227777e-01 6.75466759e-01]\n"
     ]
    }
   ],
   "source": [
    "Y_x = df_main['CHURN_Y_N']\n",
    "X_1 = df_main.drop(['customer_id','CHURN_Y_N'],axis=1)\n",
    "from sklearn.feature_selection import chi2,f_classif\n",
    "labels = Y_x.values\n",
    "features = X_1.values\n",
    "chi2_, pval = chi2(features, labels)\n",
    "print(chi2_)\n",
    "print(pval)\n",
    "#Selecting the variables whose Pval is lesser than 0.3\n",
    "feat_list = list(X_1.columns)\n",
    "\n",
    "len(feat_list)\n",
    "len(chi2_)\n",
    "\n",
    "serv_var_imp_x = pd.DataFrame(\n",
    "    {'Variable': feat_list,\n",
    "     'Scores': chi2_.tolist(),\n",
    "     'Pval': pval.tolist()                 \n",
    "    })"
   ]
  },
  {
   "cell_type": "code",
   "execution_count": 60,
   "metadata": {},
   "outputs": [
    {
     "name": "stdout",
     "output_type": "stream",
     "text": [
      "['ACCOUNT_BALANCE_LOW', 'NUM_OF_COMPLAINTS', 'NUM_OF_ENQUIRIES', 'NUM_OF_PROD_SUPRT', 'interest_rate_low', 'interest_rate_high', 'credit_limit_low', 'credit_limit_high', 'Nuclear_Family', 'Joint_Family', 'age_20_30', 'age_30_40', 'age_40_50', 'age_50_60', 'age_60_70', 'GENDER_Female', 'GENDER_Male', 'INCOME_LEVEL_High', 'INCOME_LEVEL_Low', 'INCOME_LEVEL_Medium', 'MARITAL_STATUS_Single', 'sentiment_polarity_negative', 'sentiment_polarity_neutral', 'customer_id', 'CHURN_Y_N']\n"
     ]
    }
   ],
   "source": [
    "sel_features = serv_var_imp_x[serv_var_imp_x.Pval <= 0.5]\n",
    "features = sel_features['Variable'].tolist()\n",
    "features.append('customer_id')\n",
    "features.append('CHURN_Y_N')\n",
    "print (features)"
   ]
  },
  {
   "cell_type": "code",
   "execution_count": 61,
   "metadata": {},
   "outputs": [
    {
     "name": "stdout",
     "output_type": "stream",
     "text": [
      "Index(['ACCOUNT_BALANCE_LOW', 'NUM_OF_COMPLAINTS', 'NUM_OF_ENQUIRIES',\n",
      "       'NUM_OF_PROD_SUPRT', 'interest_rate_low', 'interest_rate_high',\n",
      "       'credit_limit_low', 'credit_limit_high', 'Nuclear_Family',\n",
      "       'Joint_Family', 'age_20_30', 'age_30_40', 'age_40_50', 'age_50_60',\n",
      "       'age_60_70', 'GENDER_Female', 'GENDER_Male', 'INCOME_LEVEL_High',\n",
      "       'INCOME_LEVEL_Low', 'INCOME_LEVEL_Medium', 'MARITAL_STATUS_Single',\n",
      "       'sentiment_polarity_negative', 'sentiment_polarity_neutral',\n",
      "       'customer_id', 'CHURN_Y_N'],\n",
      "      dtype='object')\n",
      "(647, 25)\n"
     ]
    }
   ],
   "source": [
    "df = df_main[features]\n",
    "print (df.columns)\n",
    "print (df.shape)"
   ]
  },
  {
   "cell_type": "code",
   "execution_count": 63,
   "metadata": {},
   "outputs": [],
   "source": [
    "df1 = df.copy()"
   ]
  },
  {
   "cell_type": "code",
   "execution_count": 64,
   "metadata": {},
   "outputs": [],
   "source": [
    "df1 = df1.drop(['customer_id'],axis=1)"
   ]
  },
  {
   "cell_type": "code",
   "execution_count": 65,
   "metadata": {},
   "outputs": [
    {
     "data": {
      "text/plain": [
       "Index(['ACCOUNT_BALANCE_LOW', 'NUM_OF_COMPLAINTS', 'NUM_OF_ENQUIRIES',\n",
       "       'NUM_OF_PROD_SUPRT', 'interest_rate_low', 'interest_rate_high',\n",
       "       'credit_limit_low', 'credit_limit_high', 'Nuclear_Family',\n",
       "       'Joint_Family', 'age_20_30', 'age_30_40', 'age_40_50', 'age_50_60',\n",
       "       'age_60_70', 'GENDER_Female', 'GENDER_Male', 'INCOME_LEVEL_High',\n",
       "       'INCOME_LEVEL_Low', 'INCOME_LEVEL_Medium', 'MARITAL_STATUS_Single',\n",
       "       'sentiment_polarity_negative', 'sentiment_polarity_neutral',\n",
       "       'CHURN_Y_N'],\n",
       "      dtype='object')"
      ]
     },
     "execution_count": 65,
     "metadata": {},
     "output_type": "execute_result"
    }
   ],
   "source": [
    "df1.columns"
   ]
  },
  {
   "cell_type": "code",
   "execution_count": 66,
   "metadata": {},
   "outputs": [],
   "source": [
    "all_inputs = df1[['ACCOUNT_BALANCE_LOW', 'NUM_OF_COMPLAINTS', 'NUM_OF_ENQUIRIES',\n",
    "       'NUM_OF_PROD_SUPRT', 'interest_rate_low', 'interest_rate_high',\n",
    "       'credit_limit_low', 'credit_limit_high', 'Nuclear_Family',\n",
    "       'Joint_Family', 'age_20_30', 'age_30_40', 'age_40_50', 'age_50_60',\n",
    "       'age_60_70', 'GENDER_Female', 'GENDER_Male', 'INCOME_LEVEL_High',\n",
    "       'INCOME_LEVEL_Low', 'INCOME_LEVEL_Medium', 'MARITAL_STATUS_Single',\n",
    "       'sentiment_polarity_negative', 'sentiment_polarity_neutral']].values\n",
    "all_classes = df1['CHURN_Y_N'].values"
   ]
  },
  {
   "cell_type": "code",
   "execution_count": 67,
   "metadata": {
    "scrolled": true
   },
   "outputs": [
    {
     "data": {
      "text/plain": [
       "'\\n\\nname = \"Customer Churn Use Case\"\\nauthor = \"Test_user_Churn\"\\ndescription = \"Classification Technique\"\\nsyncer_obj = Syncer(\\n    NewOrExistingProject(name, author, description),\\n    NewOrExistingExperiment(\"customerChurnUseCase test user churn\", \"churnDesc test user churn\"),\\n    NewExperimentRun(\"churn use case test user churn\"))\\n'"
      ]
     },
     "execution_count": 67,
     "metadata": {},
     "output_type": "execute_result"
    }
   ],
   "source": [
    "# Creating a new project\n",
    "'''\n",
    "\n",
    "name = \"Customer Churn Use Case\"\n",
    "author = \"Test_user_Churn\"\n",
    "description = \"Classification Technique\"\n",
    "syncer_obj = Syncer(\n",
    "    NewOrExistingProject(name, author, description),\n",
    "    NewOrExistingExperiment(\"customerChurnUseCase test user churn\", \"churnDesc test user churn\"),\n",
    "    NewExperimentRun(\"churn use case test user churn\"))\n",
    "'''"
   ]
  },
  {
   "cell_type": "code",
   "execution_count": 68,
   "metadata": {},
   "outputs": [],
   "source": [
    "#syncer_obj.add_tag(all_inputs, \"data to input into model\")"
   ]
  },
  {
   "cell_type": "code",
   "execution_count": 69,
   "metadata": {},
   "outputs": [
    {
     "name": "stderr",
     "output_type": "stream",
     "text": [
      "/home/ubuntu/.local/lib/python3.5/site-packages/sklearn/model_selection/_split.py:2179: FutureWarning: From version 0.21, test_size will always complement train_size unless both are specified.\n",
      "  FutureWarning)\n"
     ]
    }
   ],
   "source": [
    "# Make sure that you don't mix up the order of the entries\n",
    "# all_inputs[5] inputs should correspond to the class in all_classes[5]\n",
    "'''\n",
    "(training_inputs,\n",
    " testing_inputs,\n",
    " training_classes,\n",
    " testing_classes) = cross_validation.train_test_split_sync(\n",
    "    all_inputs, all_classes, train_size=0.80, random_state=1)\n",
    "'''\n",
    "(training_inputs,\n",
    " testing_inputs,\n",
    " training_classes,\n",
    " testing_classes) = train_test_split(\n",
    "    all_inputs, all_classes, train_size=0.80, random_state=1)"
   ]
  },
  {
   "cell_type": "code",
   "execution_count": 70,
   "metadata": {},
   "outputs": [],
   "source": [
    "classifier = RandomForestClassifier(bootstrap=True, class_weight=None, criterion='gini',\n",
    "            max_depth=None, max_features='sqrt', max_leaf_nodes=None,\n",
    "            min_impurity_decrease=0.0, min_impurity_split=None,\n",
    "            min_samples_leaf=2, min_samples_split=10,\n",
    "            min_weight_fraction_leaf=0.0, n_estimators=500, n_jobs=2,\n",
    "            oob_score=False, random_state=None, verbose=0,\n",
    "            warm_start=False)"
   ]
  },
  {
   "cell_type": "code",
   "execution_count": 71,
   "metadata": {},
   "outputs": [],
   "source": [
    "#syncer_obj.add_tag(classifier, \"random forest\")"
   ]
  },
  {
   "cell_type": "code",
   "execution_count": 72,
   "metadata": {},
   "outputs": [],
   "source": [
    "feature_columns1 = df1.columns"
   ]
  },
  {
   "cell_type": "code",
   "execution_count": 73,
   "metadata": {},
   "outputs": [
    {
     "data": {
      "text/plain": [
       "RandomForestClassifier(bootstrap=True, class_weight=None, criterion='gini',\n",
       "            max_depth=None, max_features='sqrt', max_leaf_nodes=None,\n",
       "            min_impurity_decrease=0.0, min_impurity_split=None,\n",
       "            min_samples_leaf=2, min_samples_split=10,\n",
       "            min_weight_fraction_leaf=0.0, n_estimators=500, n_jobs=2,\n",
       "            oob_score=False, random_state=None, verbose=0,\n",
       "            warm_start=False)"
      ]
     },
     "execution_count": 73,
     "metadata": {},
     "output_type": "execute_result"
    }
   ],
   "source": [
    "#classifier.fit_sync(training_inputs, training_classes)\n",
    "classifier.fit(training_inputs, training_classes)"
   ]
  },
  {
   "cell_type": "code",
   "execution_count": 75,
   "metadata": {},
   "outputs": [
    {
     "data": {
      "text/plain": [
       "'\\nSyncableMetrics.compute_metrics(\\n    classifier, accuracy_score, testing_classes,\\n    classifier.predict(testing_inputs), training_inputs, \"\", \"\")\\n\\n# cross_val_score returns a list of the scores, which we can visualize\\n# to get a reasonable estimate of our classifier\\'s performance\\ncv_scores = cross_validation.cross_val_score_sync(\\n    classifier, all_inputs, all_classes, cv=10)\\n    '"
      ]
     },
     "execution_count": 75,
     "metadata": {},
     "output_type": "execute_result"
    }
   ],
   "source": [
    "# Validate the classifier on the testing set using classification accuracy\n",
    "# decision_tree_classifier.score(testing_inputs, testing_classes)\n",
    "\n",
    "# NOTE: score is equivalent to sklearn.metrics.accuracy_score.\n",
    "'''\n",
    "SyncableMetrics.compute_metrics(\n",
    "    classifier, accuracy_score, testing_classes,\n",
    "    classifier.predict(testing_inputs), training_inputs, \"\", \"\")\n",
    "\n",
    "# cross_val_score returns a list of the scores, which we can visualize\n",
    "# to get a reasonable estimate of our classifier's performance\n",
    "cv_scores = cross_validation.cross_val_score_sync(\n",
    "    classifier, all_inputs, all_classes, cv=10)\n",
    "    '''"
   ]
  },
  {
   "cell_type": "code",
   "execution_count": 76,
   "metadata": {},
   "outputs": [],
   "source": [
    "#syncer_obj.sync()"
   ]
  },
  {
   "cell_type": "code",
   "execution_count": null,
   "metadata": {},
   "outputs": [],
   "source": []
  },
  {
   "cell_type": "code",
   "execution_count": 77,
   "metadata": {},
   "outputs": [],
   "source": [
    "pipeline = PMMLPipeline([(\"classifier\", classifier)])"
   ]
  },
  {
   "cell_type": "code",
   "execution_count": 78,
   "metadata": {},
   "outputs": [
    {
     "data": {
      "text/plain": [
       "['/home/ubuntu/data-science-workbench/model-deployer/deploy/customer_churn_pipeline_test.pkl.z']"
      ]
     },
     "execution_count": 78,
     "metadata": {},
     "output_type": "execute_result"
    }
   ],
   "source": [
    "#pickle pipeline\n",
    "pipeline_pickle_file = \"/home/ubuntu/data-science-workbench/model-deployer/deploy/customer_churn_pipeline_test.pkl.z\"\n",
    "joblib.dump(pipeline, pipeline_pickle_file, compress = 9)"
   ]
  },
  {
   "cell_type": "code",
   "execution_count": 79,
   "metadata": {},
   "outputs": [
    {
     "data": {
      "text/plain": [
       "PMMLPipeline(steps=[('classifier', RandomForestClassifier(bootstrap=True, class_weight=None, criterion='gini',\n",
       "            max_depth=None, max_features='sqrt', max_leaf_nodes=None,\n",
       "            min_impurity_decrease=0.0, min_impurity_split=None,\n",
       "            min_samples_leaf=2, min_samples_split=10,\n",
       "            min_weight_fraction_leaf=0.0, n_estimators=500, n_jobs=2,\n",
       "            oob_score=False, random_state=None, verbose=0,\n",
       "            warm_start=False))])"
      ]
     },
     "execution_count": 79,
     "metadata": {},
     "output_type": "execute_result"
    }
   ],
   "source": [
    "pipeline.fit(df1[['ACCOUNT_BALANCE_LOW', 'NUM_OF_COMPLAINTS', 'NUM_OF_ENQUIRIES',\n",
    "       'NUM_OF_PROD_SUPRT', 'interest_rate_low', 'interest_rate_high',\n",
    "       'credit_limit_low', 'credit_limit_high', 'Nuclear_Family',\n",
    "       'Joint_Family', 'age_20_30', 'age_30_40', 'age_40_50', 'age_50_60',\n",
    "       'age_60_70', 'GENDER_Female', 'GENDER_Male', 'INCOME_LEVEL_High',\n",
    "       'INCOME_LEVEL_Low', 'INCOME_LEVEL_Medium', 'MARITAL_STATUS_Single',\n",
    "       'sentiment_polarity_negative', 'sentiment_polarity_neutral']],df1['CHURN_Y_N'] )"
   ]
  },
  {
   "cell_type": "code",
   "execution_count": 80,
   "metadata": {
    "scrolled": true
   },
   "outputs": [
    {
     "data": {
      "text/html": [
       "<div>\n",
       "<style scoped>\n",
       "    .dataframe tbody tr th:only-of-type {\n",
       "        vertical-align: middle;\n",
       "    }\n",
       "\n",
       "    .dataframe tbody tr th {\n",
       "        vertical-align: top;\n",
       "    }\n",
       "\n",
       "    .dataframe thead th {\n",
       "        text-align: right;\n",
       "    }\n",
       "</style>\n",
       "<table border=\"1\" class=\"dataframe\">\n",
       "  <thead>\n",
       "    <tr style=\"text-align: right;\">\n",
       "      <th></th>\n",
       "      <th>ACCOUNT_BALANCE_LOW</th>\n",
       "      <th>NUM_OF_COMPLAINTS</th>\n",
       "      <th>NUM_OF_ENQUIRIES</th>\n",
       "      <th>NUM_OF_PROD_SUPRT</th>\n",
       "      <th>interest_rate_low</th>\n",
       "      <th>interest_rate_high</th>\n",
       "      <th>credit_limit_low</th>\n",
       "      <th>credit_limit_high</th>\n",
       "      <th>Nuclear_Family</th>\n",
       "      <th>Joint_Family</th>\n",
       "      <th>...</th>\n",
       "      <th>age_60_70</th>\n",
       "      <th>GENDER_Female</th>\n",
       "      <th>GENDER_Male</th>\n",
       "      <th>INCOME_LEVEL_High</th>\n",
       "      <th>INCOME_LEVEL_Low</th>\n",
       "      <th>INCOME_LEVEL_Medium</th>\n",
       "      <th>MARITAL_STATUS_Single</th>\n",
       "      <th>sentiment_polarity_negative</th>\n",
       "      <th>sentiment_polarity_neutral</th>\n",
       "      <th>CHURN_Y_N</th>\n",
       "    </tr>\n",
       "  </thead>\n",
       "  <tbody>\n",
       "    <tr>\n",
       "      <th>0</th>\n",
       "      <td>0.0</td>\n",
       "      <td>0.0</td>\n",
       "      <td>0.0</td>\n",
       "      <td>0.0</td>\n",
       "      <td>1</td>\n",
       "      <td>0</td>\n",
       "      <td>0</td>\n",
       "      <td>1</td>\n",
       "      <td>1</td>\n",
       "      <td>0</td>\n",
       "      <td>...</td>\n",
       "      <td>0</td>\n",
       "      <td>1</td>\n",
       "      <td>0</td>\n",
       "      <td>0</td>\n",
       "      <td>0</td>\n",
       "      <td>1</td>\n",
       "      <td>0</td>\n",
       "      <td>0</td>\n",
       "      <td>1</td>\n",
       "      <td>N</td>\n",
       "    </tr>\n",
       "    <tr>\n",
       "      <th>1</th>\n",
       "      <td>0.0</td>\n",
       "      <td>0.0</td>\n",
       "      <td>0.0</td>\n",
       "      <td>0.0</td>\n",
       "      <td>0</td>\n",
       "      <td>1</td>\n",
       "      <td>1</td>\n",
       "      <td>0</td>\n",
       "      <td>1</td>\n",
       "      <td>0</td>\n",
       "      <td>...</td>\n",
       "      <td>0</td>\n",
       "      <td>0</td>\n",
       "      <td>1</td>\n",
       "      <td>1</td>\n",
       "      <td>0</td>\n",
       "      <td>0</td>\n",
       "      <td>0</td>\n",
       "      <td>0</td>\n",
       "      <td>1</td>\n",
       "      <td>Y</td>\n",
       "    </tr>\n",
       "    <tr>\n",
       "      <th>2</th>\n",
       "      <td>0.0</td>\n",
       "      <td>0.0</td>\n",
       "      <td>0.0</td>\n",
       "      <td>0.0</td>\n",
       "      <td>1</td>\n",
       "      <td>0</td>\n",
       "      <td>0</td>\n",
       "      <td>1</td>\n",
       "      <td>0</td>\n",
       "      <td>1</td>\n",
       "      <td>...</td>\n",
       "      <td>1</td>\n",
       "      <td>0</td>\n",
       "      <td>1</td>\n",
       "      <td>0</td>\n",
       "      <td>1</td>\n",
       "      <td>0</td>\n",
       "      <td>0</td>\n",
       "      <td>0</td>\n",
       "      <td>1</td>\n",
       "      <td>N</td>\n",
       "    </tr>\n",
       "    <tr>\n",
       "      <th>3</th>\n",
       "      <td>0.0</td>\n",
       "      <td>0.0</td>\n",
       "      <td>0.0</td>\n",
       "      <td>0.0</td>\n",
       "      <td>1</td>\n",
       "      <td>0</td>\n",
       "      <td>0</td>\n",
       "      <td>1</td>\n",
       "      <td>0</td>\n",
       "      <td>1</td>\n",
       "      <td>...</td>\n",
       "      <td>0</td>\n",
       "      <td>0</td>\n",
       "      <td>1</td>\n",
       "      <td>1</td>\n",
       "      <td>0</td>\n",
       "      <td>0</td>\n",
       "      <td>0</td>\n",
       "      <td>0</td>\n",
       "      <td>1</td>\n",
       "      <td>N</td>\n",
       "    </tr>\n",
       "    <tr>\n",
       "      <th>4</th>\n",
       "      <td>1.0</td>\n",
       "      <td>0.0</td>\n",
       "      <td>0.0</td>\n",
       "      <td>1.0</td>\n",
       "      <td>1</td>\n",
       "      <td>0</td>\n",
       "      <td>0</td>\n",
       "      <td>1</td>\n",
       "      <td>1</td>\n",
       "      <td>0</td>\n",
       "      <td>...</td>\n",
       "      <td>0</td>\n",
       "      <td>0</td>\n",
       "      <td>1</td>\n",
       "      <td>0</td>\n",
       "      <td>1</td>\n",
       "      <td>0</td>\n",
       "      <td>0</td>\n",
       "      <td>1</td>\n",
       "      <td>0</td>\n",
       "      <td>Y</td>\n",
       "    </tr>\n",
       "  </tbody>\n",
       "</table>\n",
       "<p>5 rows × 24 columns</p>\n",
       "</div>"
      ],
      "text/plain": [
       "   ACCOUNT_BALANCE_LOW  NUM_OF_COMPLAINTS  NUM_OF_ENQUIRIES  \\\n",
       "0                  0.0                0.0               0.0   \n",
       "1                  0.0                0.0               0.0   \n",
       "2                  0.0                0.0               0.0   \n",
       "3                  0.0                0.0               0.0   \n",
       "4                  1.0                0.0               0.0   \n",
       "\n",
       "   NUM_OF_PROD_SUPRT  interest_rate_low  interest_rate_high  credit_limit_low  \\\n",
       "0                0.0                  1                   0                 0   \n",
       "1                0.0                  0                   1                 1   \n",
       "2                0.0                  1                   0                 0   \n",
       "3                0.0                  1                   0                 0   \n",
       "4                1.0                  1                   0                 0   \n",
       "\n",
       "   credit_limit_high  Nuclear_Family  Joint_Family  ...  age_60_70  \\\n",
       "0                  1               1             0  ...          0   \n",
       "1                  0               1             0  ...          0   \n",
       "2                  1               0             1  ...          1   \n",
       "3                  1               0             1  ...          0   \n",
       "4                  1               1             0  ...          0   \n",
       "\n",
       "   GENDER_Female  GENDER_Male  INCOME_LEVEL_High  INCOME_LEVEL_Low  \\\n",
       "0              1            0                  0                 0   \n",
       "1              0            1                  1                 0   \n",
       "2              0            1                  0                 1   \n",
       "3              0            1                  1                 0   \n",
       "4              0            1                  0                 1   \n",
       "\n",
       "   INCOME_LEVEL_Medium  MARITAL_STATUS_Single  sentiment_polarity_negative  \\\n",
       "0                    1                      0                            0   \n",
       "1                    0                      0                            0   \n",
       "2                    0                      0                            0   \n",
       "3                    0                      0                            0   \n",
       "4                    0                      0                            1   \n",
       "\n",
       "   sentiment_polarity_neutral  CHURN_Y_N  \n",
       "0                           1          N  \n",
       "1                           1          Y  \n",
       "2                           1          N  \n",
       "3                           1          N  \n",
       "4                           0          Y  \n",
       "\n",
       "[5 rows x 24 columns]"
      ]
     },
     "execution_count": 80,
     "metadata": {},
     "output_type": "execute_result"
    }
   ],
   "source": [
    "df1.head()"
   ]
  },
  {
   "cell_type": "code",
   "execution_count": 47,
   "metadata": {},
   "outputs": [],
   "source": [
    
   ]
  },
  {
   "cell_type": "code",
   "execution_count": 128,
   "metadata": {},
   "outputs": [
    {
     "data": {
      "text/plain": [
      
      ]
     },
     "execution_count": 128,
     "metadata": {},
     "output_type": "execute_result"
    }
   ],
   "source": [
    "pwd"
   ]
  },
  {
   "cell_type": "code",
   "execution_count": null,
   "metadata": {},
   "outputs": [],
   "source": []
  }
 ],
 "metadata": {
  "kernelspec": {
   "display_name": "Python 3",
   "language": "python",
   "name": "python3"
  },
  "language_info": {
   "codemirror_mode": {
    "name": "ipython",
    "version": 3
   },
   "file_extension": ".py",
   "mimetype": "text/x-python",
   "name": "python",
   "nbconvert_exporter": "python",
   "pygments_lexer": "ipython3",
   "version": "3.5.2"
  }
 },
 "nbformat": 4,
 "nbformat_minor": 2
}
